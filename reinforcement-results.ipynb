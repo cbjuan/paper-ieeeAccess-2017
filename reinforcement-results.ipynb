{
 "cells": [
  {
   "cell_type": "markdown",
   "metadata": {},
   "source": [
    "<h1>Reinforcement and device-based questionnaire adaptativity results</h1>"
   ]
  },
  {
   "cell_type": "code",
   "execution_count": 1,
   "metadata": {
    "collapsed": true
   },
   "outputs": [],
   "source": [
    "import pandas as pd\n",
    "import requests\n",
    "import io\n",
    "import numpy as np\n",
    "from scipy import stats\n",
    "\n",
    "from IPython.display import display\n",
    "pd.set_option('display.max_columns', None)"
   ]
  },
  {
   "cell_type": "markdown",
   "metadata": {},
   "source": [
    "<h2>General results (BEFORE reinforcement)</h2>\n",
    "\n",
    "<p>General results <b>before</b> the rules were applied.</p>"
   ]
  },
  {
   "cell_type": "code",
   "execution_count": 2,
   "metadata": {
    "collapsed": false
   },
   "outputs": [],
   "source": [
    "data_before_reinf = pd.read_csv(\"dataBeforeReinforcement.csv\", low_memory=False)"
   ]
  },
  {
   "cell_type": "markdown",
   "metadata": {},
   "source": [
    "<h3>Overall results taking into account only the users that have started the questionnaire</h3>"
   ]
  },
  {
   "cell_type": "code",
   "execution_count": 3,
   "metadata": {
    "collapsed": false
   },
   "outputs": [
    {
     "name": "stdout",
     "output_type": "stream",
     "text": [
      "Number of students that have STARTED the questionnaire: 5768\n",
      "Number of students that have NOT finished the questionnaire: 1358\n",
      "Number of students that have finished the questionnaire: 4410\n",
      "\n",
      "Completion rate BEFORE reinforcement:  76.46%\n"
     ]
    }
   ],
   "source": [
    "total_started_questionnaires_before_reinf = data_before_reinf[data_before_reinf[\"cuestionarioIniciado\"] == True].shape[0]\n",
    "print \"Number of students that have STARTED the questionnaire: \" + str(total_started_questionnaires_before_reinf)\n",
    "\n",
    "uncompleted_questionnaires_before_reinf = data_before_reinf[(data_before_reinf[\"cuestionarioIniciado\"] == True) & (data_before_reinf[\"cuestionarioFinalizado\"] == False)].shape[0]\n",
    "print \"Number of students that have NOT finished the questionnaire: \" + str(uncompleted_questionnaires_before_reinf)\n",
    "\n",
    "completed_questionnaires_before_reinf = data_before_reinf[(data_before_reinf[\"cuestionarioIniciado\"] == True) & (data_before_reinf[\"cuestionarioFinalizado\"] == True)].shape[0]\n",
    "print \"Number of students that have finished the questionnaire: \" + str(completed_questionnaires_before_reinf)\n",
    "\n",
    "completion_rate_before_reinf = 100 * float(completed_questionnaires_before_reinf) / total_started_questionnaires_before_reinf\n",
    "print \"\\nCompletion rate BEFORE reinforcement: \" + '% .2f' % completion_rate_before_reinf + \"%\""
   ]
  },
  {
   "cell_type": "markdown",
   "metadata": {},
   "source": [
    "<h3>Overall results taking into account all the users that have clicked the questionnaire link (started or not)</h3>"
   ]
  },
  {
   "cell_type": "code",
   "execution_count": 4,
   "metadata": {
    "collapsed": false
   },
   "outputs": [
    {
     "name": "stdout",
     "output_type": "stream",
     "text": [
      "Number of students that have ENTERED the questionnaire: 6360\n",
      "Number of students that have NOT finished the questionnaire: 1950\n",
      "Number of students that have finished the questionnaire: 4410\n",
      "\n",
      "Completion rate BEFORE reinforcement:  69.34%\n"
     ]
    }
   ],
   "source": [
    "total_started_questionnaires_before_reinf_2 = data_before_reinf[(data_before_reinf[\"verticalAsignado\"] != 0)].shape[0]\n",
    "print \"Number of students that have ENTERED the questionnaire: \" + str(total_started_questionnaires_before_reinf_2)\n",
    "\n",
    "uncompleted_questionnaires_before_reinf_2 = data_before_reinf[(data_before_reinf[\"verticalAsignado\"] != 0) & (data_before_reinf[\"cuestionarioFinalizado\"] == False)].shape[0]\n",
    "print \"Number of students that have NOT finished the questionnaire: \" + str(uncompleted_questionnaires_before_reinf_2)\n",
    "\n",
    "completed_questionnaires_before_reinf_2 = data_before_reinf[(data_before_reinf[\"verticalAsignado\"] != 0) & (data_before_reinf[\"cuestionarioFinalizado\"] == True)].shape[0]\n",
    "print \"Number of students that have finished the questionnaire: \" + str(completed_questionnaires_before_reinf_2)\n",
    "\n",
    "completion_rate_before_reinf_2 = 100 * float(completed_questionnaires_before_reinf_2) / total_started_questionnaires_before_reinf_2\n",
    "print \"\\nCompletion rate BEFORE reinforcement: \" + '% .2f' % completion_rate_before_reinf_2 + \"%\""
   ]
  },
  {
   "cell_type": "markdown",
   "metadata": {},
   "source": [
    "<h2>General results (AFTER reinforcement)</h2>\n",
    "\n",
    "<p>General results <b>after</b> the rules were applied.</p>"
   ]
  },
  {
   "cell_type": "code",
   "execution_count": 5,
   "metadata": {
    "collapsed": true
   },
   "outputs": [],
   "source": [
    "with open(\"tokenOEEU.txt\") as file: \n",
    "    api_token = file.read() "
   ]
  },
  {
   "cell_type": "code",
   "execution_count": 6,
   "metadata": {
    "collapsed": false
   },
   "outputs": [],
   "source": [
    "data_after_reinf = requests.get('https://datos.oeeu.org/api/master/estudiantes/',headers={'Authorization': api_token}).content\n",
    "data_after_reinf = pd.read_csv(io.StringIO(data_after_reinf.decode('utf-8')), low_memory=False, sep=\";\")"
   ]
  },
  {
   "cell_type": "markdown",
   "metadata": {},
   "source": [
    "<h3>Overall results taking into account only the users that have started the questionnaire</h3>"
   ]
  },
  {
   "cell_type": "code",
   "execution_count": 7,
   "metadata": {
    "collapsed": false
   },
   "outputs": [
    {
     "name": "stdout",
     "output_type": "stream",
     "text": [
      "Number of students that have STARTED the questionnaire: 6738\n",
      "Number of students that have NOT finished the questionnaire: 1524\n",
      "Number of students that have finished the questionnaire: 5214\n",
      "\n",
      "Completion rate AFTER reinforcement:  77.38%\n"
     ]
    }
   ],
   "source": [
    "total_started_questionnaires_after_reinf = data_after_reinf[data_after_reinf[\"cuestionarioIniciado\"] == True].shape[0]\n",
    "print \"Number of students that have STARTED the questionnaire: \" + str(total_started_questionnaires_after_reinf)\n",
    "\n",
    "uncompleted_questionnaires_after_reinf = data_after_reinf[(data_after_reinf[\"cuestionarioIniciado\"] == True) & (data_after_reinf[\"cuestionarioFinalizado\"] == False)].shape[0]\n",
    "print \"Number of students that have NOT finished the questionnaire: \" + str(uncompleted_questionnaires_after_reinf)\n",
    "\n",
    "completed_questionnaires_after_reinf = data_after_reinf[(data_after_reinf[\"cuestionarioIniciado\"] == True) & (data_after_reinf[\"cuestionarioFinalizado\"] == True)].shape[0]\n",
    "print \"Number of students that have finished the questionnaire: \" + str(completed_questionnaires_after_reinf)\n",
    "\n",
    "completion_rate_after_reinf = 100 * float(completed_questionnaires_after_reinf) / total_started_questionnaires_after_reinf\n",
    "print \"\\nCompletion rate AFTER reinforcement: \" + '% .2f' % completion_rate_after_reinf + \"%\""
   ]
  },
  {
   "cell_type": "markdown",
   "metadata": {},
   "source": [
    "<h3>Overall results taking into account all the users that have clicked the questionnaire link (started or not)</h3>"
   ]
  },
  {
   "cell_type": "code",
   "execution_count": 8,
   "metadata": {
    "collapsed": false
   },
   "outputs": [
    {
     "name": "stdout",
     "output_type": "stream",
     "text": [
      "Number of students that have ENTERED the questionnaire: 7349\n",
      "Number of students that have NOT finished the questionnaire: 2135\n",
      "Number of students that have finished the questionnaire: 5214\n",
      "\n",
      "Completion rate AFTER reinforcement:  70.95%\n"
     ]
    }
   ],
   "source": [
    "total_started_questionnaires_after_reinf_2 = data_after_reinf[data_after_reinf[\"verticalAsignado\"] != 0].shape[0]\n",
    "print \"Number of students that have ENTERED the questionnaire: \" + str(total_started_questionnaires_after_reinf_2)\n",
    "\n",
    "uncompleted_questionnaires_after_reinf_2 = data_after_reinf[(data_after_reinf[\"verticalAsignado\"] != 0) & (data_after_reinf[\"cuestionarioFinalizado\"] == False)].shape[0]\n",
    "print \"Number of students that have NOT finished the questionnaire: \" + str(uncompleted_questionnaires_after_reinf_2)\n",
    "\n",
    "completed_questionnaires_after_reinf_2 = data_after_reinf[(data_after_reinf[\"verticalAsignado\"] != 0) & (data_after_reinf[\"cuestionarioFinalizado\"] == True)].shape[0]\n",
    "print \"Number of students that have finished the questionnaire: \" + str(completed_questionnaires_after_reinf_2)\n",
    "\n",
    "completion_rate_after_reinf_2 = 100 * float(completed_questionnaires_after_reinf_2) / total_started_questionnaires_after_reinf_2\n",
    "print \"\\nCompletion rate AFTER reinforcement: \" + '% .2f' % completion_rate_after_reinf_2 + \"%\""
   ]
  },
  {
   "cell_type": "markdown",
   "metadata": {},
   "source": [
    "<h2>Device-based questionnaire variant selection</h2>"
   ]
  },
  {
   "cell_type": "markdown",
   "metadata": {},
   "source": [
    "<h3>Device data gathering (after and before the reinforcement)</h3>"
   ]
  },
  {
   "cell_type": "code",
   "execution_count": 9,
   "metadata": {
    "collapsed": false
   },
   "outputs": [],
   "source": [
    "env_paradata_before_reinf = pd.read_csv(\"deviceDataBeforeReinforcement.csv\", low_memory=False)\n",
    "\n",
    "'''\n",
    "We get the device data from the most recent access of the paradata BEFORE before reinforcement.\n",
    "The reason is because in case the user used different devices, we take into account the one with which the user\n",
    "abandoned the questionnaire (and, therefore, the device which the user made the last access with)\n",
    "'''\n",
    "env_paradata_before_reinf = env_paradata_before_reinf.drop_duplicates(subset=[\"estudiante_id\"], keep=\"last\")\n",
    "env_paradata_before_reinf = env_paradata_before_reinf[[\"estudiante_id\", \"device_pixel_ratio\", \"device_screen_height\", \"device_screen_width\", \"tablet_or_mobile\", \"viewport_width\", \"viewport_height\", \"os\"]]"
   ]
  },
  {
   "cell_type": "code",
   "execution_count": 10,
   "metadata": {
    "collapsed": false
   },
   "outputs": [],
   "source": [
    "env_paradata_after_reinf = requests.get('https://datos.oeeu.org/api/master/paradata_entorno/',headers={'Authorization': api_token}).content\n",
    "env_paradata_after_reinf = pd.read_csv(io.StringIO(env_paradata_after_reinf.decode('utf-8')), low_memory=False, sep=\";\")\n",
    "\n",
    "'''\n",
    "We get the device data from the first access of the paradata dataset AFTER the reinforcement date (2017-07-16),\n",
    "because the redirection rules are applied based on the device with which the user returned to the questionnaire.\n",
    "'''\n",
    "env_paradata_after_reinf = env_paradata_after_reinf[env_paradata_after_reinf[\"sesion__tiempoInicio_sesion\"] > \"2017-07-16\"]\n",
    "env_paradata_after_reinf = env_paradata_after_reinf.drop_duplicates(subset=[\"estudiante_id\"], keep=\"first\")\n",
    "env_paradata_after_reinf = env_paradata_after_reinf[[\"estudiante_id\", \"device_pixel_ratio\", \"device_screen_height\", \"device_screen_width\", \"tablet_or_mobile\", \"viewport_width\", \"viewport_height\", \"os\"]]"
   ]
  },
  {
   "cell_type": "markdown",
   "metadata": {},
   "source": [
    "Before merging the paradata and students' datastets, we first clean the students' datasets in order to keep only the variables that are\n",
    "necessary to obtain the completion rate results:\n",
    "- The vertical assigned (verticalAsignado)\n",
    "- The boolean variables about the questionnaires' state: started (cuestionarioIniciado) and finalized (cuestionarioFinalizado)"
   ]
  },
  {
   "cell_type": "code",
   "execution_count": 11,
   "metadata": {
    "collapsed": true
   },
   "outputs": [],
   "source": [
    "data_before_reinf = data_before_reinf[['estudiante_id', 'verticalAsignado', 'cuestionarioFinalizado', 'cuestionarioIniciado']]\n",
    "data_after_reinf = data_after_reinf[['estudiante_id', 'verticalAsignado', 'cuestionarioFinalizado', 'cuestionarioIniciado']]"
   ]
  },
  {
   "cell_type": "markdown",
   "metadata": {},
   "source": [
    "Finally, we merge the datasets to obtain a single dataset containing the device and questionnaires' variables\n",
    "before and after the reinforcement took place, in order to facilitate the comparison of these variables"
   ]
  },
  {
   "cell_type": "code",
   "execution_count": 12,
   "metadata": {
    "collapsed": false
   },
   "outputs": [],
   "source": [
    "results_before_reinf = data_before_reinf.merge(env_paradata_before_reinf, how='left', on='estudiante_id')\n",
    "results_after_reinf = data_after_reinf.merge(env_paradata_after_reinf, how='left', on='estudiante_id')"
   ]
  },
  {
   "cell_type": "code",
   "execution_count": 13,
   "metadata": {
    "collapsed": true
   },
   "outputs": [],
   "source": [
    "full_dataset = results_before_reinf.merge(results_after_reinf, how='left', on='estudiante_id', suffixes=(\"_before_reinf\", \"_after_reinf\"))"
   ]
  },
  {
   "cell_type": "markdown",
   "metadata": {},
   "source": [
    "<h3>Identification of target users (users that entered the questionnaire after the reinforcement date, 07/16/2017)</h3>"
   ]
  },
  {
   "cell_type": "markdown",
   "metadata": {},
   "source": [
    "We keep only the sessions started after the reinforcement date in order to identify all the users to which the\n",
    "experiment was applied"
   ]
  },
  {
   "cell_type": "code",
   "execution_count": 14,
   "metadata": {
    "collapsed": true
   },
   "outputs": [],
   "source": [
    "session_paradata = requests.get('https://datos.oeeu.org/api/master/sesiones-estudiantes/',headers={'Authorization': api_token}).content\n",
    "session_paradata = pd.read_csv(io.StringIO(session_paradata.decode('utf-8')), low_memory=False, sep=\";\")\n",
    "\n",
    "new_sessions_after_reinf = session_paradata[(session_paradata[\"tiempoInicio_sesion\"] > \"2017-07-16\")].drop_duplicates(subset=[\"estudiante_id\"], keep=\"first\").copy()"
   ]
  },
  {
   "cell_type": "markdown",
   "metadata": {},
   "source": [
    "We keep only the users that had not finished the questionnaire before the reinforcement took place (target users)"
   ]
  },
  {
   "cell_type": "code",
   "execution_count": 15,
   "metadata": {
    "collapsed": false
   },
   "outputs": [],
   "source": [
    "full_dataset = full_dataset.merge(new_sessions_after_reinf, on=\"estudiante_id\")\n",
    "full_dataset = full_dataset[full_dataset[\"cuestionarioFinalizado_before_reinf\"] == False]"
   ]
  },
  {
   "cell_type": "markdown",
   "metadata": {},
   "source": [
    "<h3>Identification of the different types of users affected by the reinforcement and redirection rules</h3>"
   ]
  },
  {
   "cell_type": "markdown",
   "metadata": {},
   "source": [
    "<b>Users that had started the questionnaire after the reinforcement message.</b>\n",
    "We identify them through the following characteristics:\n",
    "- They had not started the questionnaire before reinforcement (cuestionarioIniciado_before_reinf == False)\n",
    "- They didn't have a questionnaire vertical assigned (verticalAsignado_before_reinf == 0)\n",
    "- They started the questionnaire after reinforcement (cuestionarioIniciado_after_reinf == True)"
   ]
  },
  {
   "cell_type": "code",
   "execution_count": 16,
   "metadata": {
    "collapsed": false
   },
   "outputs": [],
   "source": [
    "new_users = full_dataset[(full_dataset[\"cuestionarioIniciado_before_reinf\"] == False) & (full_dataset[\"verticalAsignado_before_reinf\"] == 0)].copy()"
   ]
  },
  {
   "cell_type": "markdown",
   "metadata": {},
   "source": [
    "<b>Users that resumed the questionnaire and had been redirected to a different questionnaire vertical.</b>\n",
    "We identify them through the following characteristics:\n",
    "- They did have a questionnaire vertical assigned before reinforcement (verticalAsignado_before_reinf != 0)\n",
    "- Their questionnaire vertical assigned after reinforcement differs from the previous one, and therefore, they\n",
    "have been redirected to another questionnaire vertical (verticalAsignado_before_reinf != verticalAsignado_after_reinf)"
   ]
  },
  {
   "cell_type": "code",
   "execution_count": 17,
   "metadata": {
    "collapsed": false
   },
   "outputs": [],
   "source": [
    "redirected_users = full_dataset[(full_dataset[\"verticalAsignado_before_reinf\"] != 0) & (full_dataset[\"verticalAsignado_before_reinf\"] != full_dataset[\"verticalAsignado_after_reinf\"])].copy()"
   ]
  },
  {
   "cell_type": "markdown",
   "metadata": {},
   "source": [
    "<b>Users that resumed the questionnaire and had NOT been redirected to a different questionnaire vertical.</b>\n",
    "We identify them through the following characteristics:\n",
    "- They did have a questionnaire vertical assigned before reinforcement (verticalAsignado_before_reinf != 0)\n",
    "- Their questionnaire vertical assigned after reinforcement is the same as the previous one, and therefore, they\n",
    "have NOT been redirected to another questionnaire vertical (verticalAsignado_before_reinf == verticalAsignado_after_reinf)"
   ]
  },
  {
   "cell_type": "code",
   "execution_count": 18,
   "metadata": {
    "collapsed": true
   },
   "outputs": [],
   "source": [
    "not_redirected_users = full_dataset[(full_dataset[\"verticalAsignado_before_reinf\"] != 0) & (full_dataset[\"verticalAsignado_before_reinf\"] == full_dataset[\"verticalAsignado_after_reinf\"])].copy()"
   ]
  },
  {
   "cell_type": "markdown",
   "metadata": {},
   "source": [
    "<h3>General numbers after reinforcement and rules' application</h3>"
   ]
  },
  {
   "cell_type": "code",
   "execution_count": 19,
   "metadata": {
    "collapsed": false
   },
   "outputs": [
    {
     "name": "stdout",
     "output_type": "stream",
     "text": [
      "Number of users that started the questionnaire after reinforcement: 1003\n",
      "Number of users that resumed the questionnaire after reinforcement and had been redirected: 110\n",
      "Number of users that resumed the questionnaire after reinforcement and had NOT been redirected: 52\n"
     ]
    }
   ],
   "source": [
    "new_users_number = new_users.shape[0]\n",
    "print \"Number of users that started the questionnaire after reinforcement: \" + str(new_users_number)\n",
    "\n",
    "redirected_users_number = redirected_users.shape[0]\n",
    "print \"Number of users that resumed the questionnaire after reinforcement and had been redirected: \" + str(redirected_users_number)\n",
    "\n",
    "not_redirected_users_number = not_redirected_users.shape[0]\n",
    "print \"Number of users that resumed the questionnaire after reinforcement and had NOT been redirected: \" + str(not_redirected_users_number)"
   ]
  },
  {
   "cell_type": "markdown",
   "metadata": {},
   "source": [
    "<h3>General results after reinforcement and rules' application</h3>"
   ]
  },
  {
   "cell_type": "markdown",
   "metadata": {},
   "source": [
    "<h4>New users' completion rate</h4>"
   ]
  },
  {
   "cell_type": "code",
   "execution_count": 20,
   "metadata": {
    "collapsed": false
   },
   "outputs": [
    {
     "name": "stdout",
     "output_type": "stream",
     "text": [
      "Number of new users that have started the questionnaire: 1003\n",
      "Number of new users that have NOT finished the questionnaire: 285\n",
      "Number of new users that have finished the questionnaire: 718\n",
      "\n",
      "Completion rate of new users:  71.59%\n"
     ]
    }
   ],
   "source": [
    "print \"Number of new users that have started the questionnaire: \" + str(new_users_number)\n",
    "\n",
    "new_users_uncompleted_questionnaires = new_users[(new_users[\"cuestionarioFinalizado_after_reinf\"] == False)].shape[0]\n",
    "print \"Number of new users that have NOT finished the questionnaire: \" + str(new_users_uncompleted_questionnaires)\n",
    "\n",
    "new_users_completed_questionnaires = new_users[(new_users[\"cuestionarioFinalizado_after_reinf\"] == True)].shape[0]\n",
    "print \"Number of new users that have finished the questionnaire: \" + str(new_users_completed_questionnaires)\n",
    "\n",
    "new_users_completion_rate = 100 * float(new_users_completed_questionnaires) / new_users_number\n",
    "print \"\\nCompletion rate of new users: \" + '% .2f' % new_users_completion_rate + \"%\""
   ]
  },
  {
   "cell_type": "markdown",
   "metadata": {},
   "source": [
    "<h4>Redirected users' completion rate</h4>"
   ]
  },
  {
   "cell_type": "code",
   "execution_count": 21,
   "metadata": {
    "collapsed": false
   },
   "outputs": [
    {
     "name": "stdout",
     "output_type": "stream",
     "text": [
      "Number of redirected users that have started the questionnaire: 110\n",
      "Number of redirected users that have NOT finished the questionnaire: 49\n",
      "Number of redirected users that have finished the questionnaire: 61\n",
      "\n",
      "Completion rate of redirected users:  55.45%\n"
     ]
    }
   ],
   "source": [
    "print \"Number of redirected users that have started the questionnaire: \" + str(redirected_users_number)\n",
    "\n",
    "redirected_users_uncompleted_questionnaires = redirected_users[(redirected_users[\"cuestionarioFinalizado_after_reinf\"] == False)].shape[0]\n",
    "print \"Number of redirected users that have NOT finished the questionnaire: \" + str(redirected_users_uncompleted_questionnaires)\n",
    "\n",
    "redirected_users_completed_questionnaires = redirected_users[(redirected_users[\"cuestionarioFinalizado_after_reinf\"] == True)].shape[0]\n",
    "print \"Number of redirected users that have finished the questionnaire: \" + str(redirected_users_completed_questionnaires)\n",
    "\n",
    "redirected_users_completion_rate = 100 * float(redirected_users_completed_questionnaires) / redirected_users_number\n",
    "print \"\\nCompletion rate of redirected users: \" + '% .2f' % redirected_users_completion_rate + \"%\""
   ]
  },
  {
   "cell_type": "markdown",
   "metadata": {},
   "source": [
    "<h4>Not redirected users' completion rate</h4>"
   ]
  },
  {
   "cell_type": "code",
   "execution_count": 22,
   "metadata": {
    "collapsed": false
   },
   "outputs": [
    {
     "name": "stdout",
     "output_type": "stream",
     "text": [
      "Number of not redirected users that have started the questionnaire: 52\n",
      "Number of not redirected users that have NOT finished the questionnaire: 27\n",
      "Number of not redirected users that have finished the questionnaire: 25\n",
      "\n",
      "Completion rate of not redirected users:  48.08%\n"
     ]
    }
   ],
   "source": [
    "print \"Number of not redirected users that have started the questionnaire: \" + str(not_redirected_users_number)\n",
    "\n",
    "not_redirected_users_uncompleted_questionnaires = not_redirected_users[(not_redirected_users[\"cuestionarioFinalizado_after_reinf\"] == False)].shape[0]\n",
    "print \"Number of not redirected users that have NOT finished the questionnaire: \" + str(not_redirected_users_uncompleted_questionnaires)\n",
    "\n",
    "not_redirected_users_completed_questionnaires = not_redirected_users[(not_redirected_users[\"cuestionarioFinalizado_after_reinf\"] == True)].shape[0]\n",
    "print \"Number of not redirected users that have finished the questionnaire: \" + str(not_redirected_users_completed_questionnaires)\n",
    "\n",
    "not_redirected_users_completion_rate = 100 * float(not_redirected_users_completed_questionnaires) / not_redirected_users_number\n",
    "print \"\\nCompletion rate of not redirected users: \" + '% .2f' % not_redirected_users_completion_rate + \"%\""
   ]
  },
  {
   "cell_type": "markdown",
   "metadata": {
    "collapsed": true
   },
   "source": [
    "<h3>Analysis of the rules application impact</h3>"
   ]
  },
  {
   "cell_type": "markdown",
   "metadata": {
    "collapsed": true
   },
   "source": [
    "<h4>Identification of the rule that would have be applied to pre-reinforcement users</h4>"
   ]
  },
  {
   "cell_type": "code",
   "execution_count": 23,
   "metadata": {
    "collapsed": true
   },
   "outputs": [],
   "source": [
    "pre_reinforcement_users = results_before_reinf[results_before_reinf[\"verticalAsignado\"] != 0].copy()"
   ]
  },
  {
   "cell_type": "code",
   "execution_count": 24,
   "metadata": {
    "collapsed": true
   },
   "outputs": [],
   "source": [
    "def rule_identification_pre(x):\n",
    "    if np.isnan(x.tablet_or_mobile) or np.isnan(x.device_pixel_ratio) or np.isnan(x.device_screen_height) or np.isnan(x.device_screen_width):\n",
    "        return 9\n",
    "    elif x.os == \"Mac OS\":\n",
    "        return 5\n",
    "    elif x.os != \"iOS\" and x.os != \"Android\" and x.os != \"Mac OS\":\n",
    "        return 4\n",
    "    elif x.os == \"Android\" and x.tablet_or_mobile == False:\n",
    "        return 8\n",
    "    elif x.os == \"Android\" and x.device_pixel_ratio == 2:\n",
    "        return 1\n",
    "    elif x.os == \"Android\" and (x.device_pixel_ratio == 3 or x.device_pixel_ratio == 4):\n",
    "        return 2\n",
    "    elif x.os == \"iOS\" and x.device_pixel_ratio == 3:\n",
    "        return 3\n",
    "    elif x.os == \"Android\" and x.device_pixel_ratio > 1000:\n",
    "        return 6\n",
    "    elif x.os == \"iOS\" and x.device_screen_height == 1024 and x.device_screen_width == 768 and (x.device_pixel_ratio == 1 or x.device_pixel_ratio == 2):\n",
    "        return 7\n",
    "    else:\n",
    "        return 9"
   ]
  },
  {
   "cell_type": "code",
   "execution_count": 25,
   "metadata": {
    "collapsed": true
   },
   "outputs": [],
   "source": [
    "pre_reinforcement_users[\"applied_rule\"] = pre_reinforcement_users.apply(rule_identification_pre, axis = 1)"
   ]
  },
  {
   "cell_type": "markdown",
   "metadata": {
    "collapsed": true
   },
   "source": [
    "<h4>After identifying the rule, we compare it to the vertical that was randomly assigned to obtain the G1 and G2 users' groups</h4>"
   ]
  },
  {
   "cell_type": "code",
   "execution_count": 26,
   "metadata": {
    "collapsed": true
   },
   "outputs": [],
   "source": [
    "def assigned_vertical_eval(x):\n",
    "    if x.applied_rule == 1:\n",
    "        right_vertical = 1\n",
    "    elif x.applied_rule == 2:\n",
    "        right_vertical = 2\n",
    "    elif x.applied_rule == 3:\n",
    "        right_vertical = 2\n",
    "    elif x.applied_rule == 4:\n",
    "        right_vertical = 1\n",
    "    elif x.applied_rule == 5:\n",
    "        right_vertical = 1\n",
    "    elif x.applied_rule == 6:\n",
    "        right_vertical = 2\n",
    "    elif x.applied_rule == 7:\n",
    "        right_vertical = 1\n",
    "    elif x.applied_rule == 8:\n",
    "        right_vertical = 1\n",
    "    elif x.applied_rule == 9:\n",
    "        if x.verticalAsignado == 3:\n",
    "            return 0\n",
    "        else:\n",
    "            # lost values\n",
    "            return -99\n",
    "    \n",
    "    if right_vertical == x.verticalAsignado:\n",
    "        return 1\n",
    "    else:\n",
    "        return 0"
   ]
  },
  {
   "cell_type": "code",
   "execution_count": 27,
   "metadata": {
    "collapsed": false
   },
   "outputs": [],
   "source": [
    "pre_reinforcement_users[\"rightVertical\"] = pre_reinforcement_users.apply(assigned_vertical_eval, axis = 1)"
   ]
  },
  {
   "cell_type": "markdown",
   "metadata": {
    "collapsed": true
   },
   "source": [
    "<h4>Group 1 users finalization rate</h4>"
   ]
  },
  {
   "cell_type": "code",
   "execution_count": 28,
   "metadata": {
    "collapsed": true
   },
   "outputs": [],
   "source": [
    "g1 = pre_reinforcement_users[pre_reinforcement_users[\"rightVertical\"] == 0].copy()"
   ]
  },
  {
   "cell_type": "code",
   "execution_count": 29,
   "metadata": {
    "collapsed": false
   },
   "outputs": [
    {
     "name": "stdout",
     "output_type": "stream",
     "text": [
      "Number of G1 users that ENTERED the questionnaire: 3833\n",
      "Number of G1 users that have NOT finished the questionnaire: 1232\n",
      "Number of G1 users that have finished the questionnaire: 2601\n",
      "\n",
      "Completion rate of G1 users:  67.86%\n"
     ]
    }
   ],
   "source": [
    "total_started_questionnaires_g1 = g1.shape[0]\n",
    "print \"Number of G1 users that ENTERED the questionnaire: \" + str(total_started_questionnaires_g1)\n",
    "\n",
    "uncompleted_questionnaires_g1 = g1[(g1[\"cuestionarioFinalizado\"] == False)].shape[0]\n",
    "print \"Number of G1 users that have NOT finished the questionnaire: \" + str(uncompleted_questionnaires_g1)\n",
    "\n",
    "completed_questionnaires_g1 = g1[(g1[\"cuestionarioFinalizado\"] == True)].shape[0]\n",
    "print \"Number of G1 users that have finished the questionnaire: \" + str(completed_questionnaires_g1)\n",
    "\n",
    "completion_rate_g1 = 100 * float(completed_questionnaires_g1) / total_started_questionnaires_g1\n",
    "print \"\\nCompletion rate of G1 users: \" + '% .2f' % completion_rate_g1 + \"%\""
   ]
  },
  {
   "cell_type": "markdown",
   "metadata": {},
   "source": [
    "<h4>Group 2 users finalization rate</h4>"
   ]
  },
  {
   "cell_type": "code",
   "execution_count": 30,
   "metadata": {
    "collapsed": true
   },
   "outputs": [],
   "source": [
    "g2 = pre_reinforcement_users[pre_reinforcement_users[\"rightVertical\"] == 1].copy()"
   ]
  },
  {
   "cell_type": "code",
   "execution_count": 31,
   "metadata": {
    "collapsed": false
   },
   "outputs": [
    {
     "name": "stdout",
     "output_type": "stream",
     "text": [
      "Number of G2 users that ENTERED the questionnaire: 1542\n",
      "Number of G2 users that have NOT finished the questionnaire: 387\n",
      "Number of G2 users that have finished the questionnaire: 1155\n",
      "\n",
      "Completion rate of G2 users:  74.90%\n"
     ]
    }
   ],
   "source": [
    "total_started_questionnaires_g2 = g2.shape[0]\n",
    "print \"Number of G2 users that ENTERED the questionnaire: \" + str(total_started_questionnaires_g2)\n",
    "\n",
    "uncompleted_questionnaires_g2 = g2[(g2[\"cuestionarioFinalizado\"] == False)].shape[0]\n",
    "print \"Number of G2 users that have NOT finished the questionnaire: \" + str(uncompleted_questionnaires_g2)\n",
    "\n",
    "completed_questionnaires_g2 = g2[(g2[\"cuestionarioFinalizado\"] == True)].shape[0]\n",
    "print \"Number of G2 users that have finished the questionnaire: \" + str(completed_questionnaires_g2)\n",
    "\n",
    "completion_rate_g2 = 100 * float(completed_questionnaires_g2) / total_started_questionnaires_g2\n",
    "print \"\\nCompletion rate of G2 users: \" + '% .2f' % completion_rate_g2 + \"%\""
   ]
  },
  {
   "cell_type": "markdown",
   "metadata": {},
   "source": [
    "<h4>Group 3 users finalization rate</h4>"
   ]
  },
  {
   "cell_type": "code",
   "execution_count": 32,
   "metadata": {
    "collapsed": true
   },
   "outputs": [],
   "source": [
    "g3 = new_users.copy()"
   ]
  },
  {
   "cell_type": "code",
   "execution_count": 33,
   "metadata": {
    "collapsed": true
   },
   "outputs": [],
   "source": [
    "def rule_identification_post(x):\n",
    "    if np.isnan(x.tablet_or_mobile_after_reinf) or np.isnan(x.device_pixel_ratio_after_reinf) or np.isnan(x.device_screen_height_after_reinf) or np.isnan(x.device_screen_width_after_reinf):\n",
    "        return 9\n",
    "    elif x.os_after_reinf == \"Mac OS\":\n",
    "        return 5\n",
    "    elif x.os_after_reinf != \"iOS\" and x.os_after_reinf != \"Android\" and x.os_after_reinf != \"Mac OS\":\n",
    "        return 4\n",
    "    elif x.os_after_reinf == \"Android\" and x.tablet_or_mobile_after_reinf == False:\n",
    "        return 8\n",
    "    elif x.os_after_reinf == \"Android\" and x.device_pixel_ratio_after_reinf == 2:\n",
    "        return 1\n",
    "    elif x.os_after_reinf == \"Android\" and (x.device_pixel_ratio_after_reinf == 3 or x.device_pixel_ratio_after_reinf == 4):\n",
    "        return 2\n",
    "    elif x.os_after_reinf == \"iOS\" and x.device_pixel_ratio_after_reinf == 3:\n",
    "        return 3\n",
    "    elif x.os_after_reinf == \"Android\" and x.device_pixel_ratio_after_reinf > 1000:\n",
    "        return 6\n",
    "    elif x.os_after_reinf == \"iOS\" and x.device_screen_height_after_reinf == 1024 and x.device_screen_width_after_reinf == 768 and (x.device_pixel_ratio_after_reinf == 1 or x.device_pixel_ratio_after_reinf == 2):\n",
    "        return 7\n",
    "    else:\n",
    "        return 9"
   ]
  },
  {
   "cell_type": "code",
   "execution_count": 34,
   "metadata": {
    "collapsed": true
   },
   "outputs": [],
   "source": [
    "g3[\"applied_rule\"] = g3.apply(rule_identification_post, axis = 1)"
   ]
  },
  {
   "cell_type": "code",
   "execution_count": 35,
   "metadata": {
    "collapsed": false
   },
   "outputs": [
    {
     "name": "stdout",
     "output_type": "stream",
     "text": [
      "Number of G3 users that ENTERED the questionnaire: 1003\n",
      "Number of G3 users that have NOT finished the questionnaire: 285\n",
      "Number of G3 users that have finished the questionnaire: 718\n",
      "\n",
      "Completion rate of G3 users:  71.59%\n"
     ]
    }
   ],
   "source": [
    "total_started_questionnaires_g3 = g3.shape[0]\n",
    "print \"Number of G3 users that ENTERED the questionnaire: \" + str(total_started_questionnaires_g3)\n",
    "\n",
    "uncompleted_questionnaires_g3 = g3[(g3[\"cuestionarioFinalizado_after_reinf\"] == False)].shape[0]\n",
    "print \"Number of G3 users that have NOT finished the questionnaire: \" + str(uncompleted_questionnaires_g3)\n",
    "\n",
    "completed_questionnaires_g3 = g3[(g3[\"cuestionarioFinalizado_after_reinf\"] == True)].shape[0]\n",
    "print \"Number of G3 users that have finished the questionnaire: \" + str(completed_questionnaires_g3)\n",
    "\n",
    "completion_rate_g3 = 100 * float(completed_questionnaires_g3) / total_started_questionnaires_g3\n",
    "print \"\\nCompletion rate of G3 users: \" + '% .2f' % completion_rate_g3 + \"%\""
   ]
  },
  {
   "cell_type": "markdown",
   "metadata": {},
   "source": [
    "<h3>Correlation between the questionnaire vertical assignation and the finalization rate</h3>"
   ]
  },
  {
   "cell_type": "markdown",
   "metadata": {},
   "source": [
    "<h4>G1-G2 correlation</h4>"
   ]
  },
  {
   "cell_type": "code",
   "execution_count": 36,
   "metadata": {
    "collapsed": false
   },
   "outputs": [
    {
     "data": {
      "text/html": [
       "<div>\n",
       "<table border=\"1\" class=\"dataframe\">\n",
       "  <thead>\n",
       "    <tr style=\"text-align: right;\">\n",
       "      <th></th>\n",
       "      <th>G1</th>\n",
       "      <th>G2</th>\n",
       "    </tr>\n",
       "  </thead>\n",
       "  <tbody>\n",
       "    <tr>\n",
       "      <th>Finished</th>\n",
       "      <td>2601</td>\n",
       "      <td>1155</td>\n",
       "    </tr>\n",
       "    <tr>\n",
       "      <th>Not finished</th>\n",
       "      <td>1232</td>\n",
       "      <td>387</td>\n",
       "    </tr>\n",
       "  </tbody>\n",
       "</table>\n",
       "</div>"
      ],
      "text/plain": [
       "                G1    G2\n",
       "Finished      2601  1155\n",
       "Not finished  1232   387"
      ]
     },
     "execution_count": 36,
     "metadata": {},
     "output_type": "execute_result"
    }
   ],
   "source": [
    "nFinalized = pd.Series([completed_questionnaires_g1, completed_questionnaires_g2], name='Finished')\n",
    "nNotFinalized = pd.Series([uncompleted_questionnaires_g1, uncompleted_questionnaires_g2], name='Not finished')\n",
    "confMatrix = pd.concat([nFinalized, nNotFinalized], axis=1).T\n",
    "confMatrix.columns = ['G1', 'G2']\n",
    "confMatrix"
   ]
  },
  {
   "cell_type": "code",
   "execution_count": 37,
   "metadata": {
    "collapsed": false
   },
   "outputs": [
    {
     "name": "stdout",
     "output_type": "stream",
     "text": [
      "Pearson's Chi-square: 25.9267429864\n",
      "Significance 3.54622117446e-07\n"
     ]
    }
   ],
   "source": [
    "chi2, p_value, dof, ex = stats.chi2_contingency(confMatrix, correction=False)\n",
    "print \"Pearson's Chi-square: \" + str(chi2)\n",
    "print \"Significance \" + str(p_value)"
   ]
  },
  {
   "cell_type": "markdown",
   "metadata": {},
   "source": [
    "<h4>G2-G3 correlation</h4>"
   ]
  },
  {
   "cell_type": "code",
   "execution_count": 38,
   "metadata": {
    "collapsed": false
   },
   "outputs": [
    {
     "data": {
      "text/html": [
       "<div>\n",
       "<table border=\"1\" class=\"dataframe\">\n",
       "  <thead>\n",
       "    <tr style=\"text-align: right;\">\n",
       "      <th></th>\n",
       "      <th>G2</th>\n",
       "      <th>G3</th>\n",
       "    </tr>\n",
       "  </thead>\n",
       "  <tbody>\n",
       "    <tr>\n",
       "      <th>Finished</th>\n",
       "      <td>1155</td>\n",
       "      <td>718</td>\n",
       "    </tr>\n",
       "    <tr>\n",
       "      <th>Not finished</th>\n",
       "      <td>387</td>\n",
       "      <td>285</td>\n",
       "    </tr>\n",
       "  </tbody>\n",
       "</table>\n",
       "</div>"
      ],
      "text/plain": [
       "                G2   G3\n",
       "Finished      1155  718\n",
       "Not finished   387  285"
      ]
     },
     "execution_count": 38,
     "metadata": {},
     "output_type": "execute_result"
    }
   ],
   "source": [
    "nFinalized = pd.Series([completed_questionnaires_g2, completed_questionnaires_g3], name='Finished')\n",
    "nNotFinalized = pd.Series([uncompleted_questionnaires_g2, uncompleted_questionnaires_g3], name='Not finished')\n",
    "confMatrix2 = pd.concat([nFinalized, nNotFinalized], axis=1).T\n",
    "confMatrix2.columns = ['G2', 'G3']\n",
    "confMatrix2"
   ]
  },
  {
   "cell_type": "code",
   "execution_count": 39,
   "metadata": {
    "collapsed": false
   },
   "outputs": [
    {
     "name": "stdout",
     "output_type": "stream",
     "text": [
      "Pearson's Chi-square: 3.44177543362\n",
      "Significance 0.0635673487709\n"
     ]
    }
   ],
   "source": [
    "chi2, p_value, dof, ex = stats.chi2_contingency(confMatrix2, correction=False)\n",
    "print \"Pearson's Chi-square: \" + str(chi2)\n",
    "print \"Significance \" + str(p_value)"
   ]
  },
  {
   "cell_type": "markdown",
   "metadata": {},
   "source": [
    "<h4>G1-G3 correlation</h4>"
   ]
  },
  {
   "cell_type": "code",
   "execution_count": 40,
   "metadata": {
    "collapsed": false
   },
   "outputs": [
    {
     "data": {
      "text/html": [
       "<div>\n",
       "<table border=\"1\" class=\"dataframe\">\n",
       "  <thead>\n",
       "    <tr style=\"text-align: right;\">\n",
       "      <th></th>\n",
       "      <th>G1</th>\n",
       "      <th>G3</th>\n",
       "    </tr>\n",
       "  </thead>\n",
       "  <tbody>\n",
       "    <tr>\n",
       "      <th>Finished</th>\n",
       "      <td>2601</td>\n",
       "      <td>718</td>\n",
       "    </tr>\n",
       "    <tr>\n",
       "      <th>Not finished</th>\n",
       "      <td>1232</td>\n",
       "      <td>285</td>\n",
       "    </tr>\n",
       "  </tbody>\n",
       "</table>\n",
       "</div>"
      ],
      "text/plain": [
       "                G1   G3\n",
       "Finished      2601  718\n",
       "Not finished  1232  285"
      ]
     },
     "execution_count": 40,
     "metadata": {},
     "output_type": "execute_result"
    }
   ],
   "source": [
    "nFinalized = pd.Series([completed_questionnaires_g1, completed_questionnaires_g3], name='Finished')\n",
    "nNotFinalized = pd.Series([uncompleted_questionnaires_g1, uncompleted_questionnaires_g3], name='Not finished')\n",
    "confMatrix3 = pd.concat([nFinalized, nNotFinalized], axis=1).T\n",
    "confMatrix3.columns = ['G1', 'G3']\n",
    "confMatrix3"
   ]
  },
  {
   "cell_type": "code",
   "execution_count": 41,
   "metadata": {
    "collapsed": false
   },
   "outputs": [
    {
     "name": "stdout",
     "output_type": "stream",
     "text": [
      "Pearson's Chi-square: 5.12969488294\n",
      "Significance 0.023519861893\n"
     ]
    }
   ],
   "source": [
    "chi2, p_value, dof, ex = stats.chi2_contingency(confMatrix3, correction=False)\n",
    "print \"Pearson's Chi-square: \" + str(chi2)\n",
    "print \"Significance \" + str(p_value)"
   ]
  },
  {
   "cell_type": "markdown",
   "metadata": {},
   "source": [
    "<h3>Correlation between the rules application and the finalization rate</h3>"
   ]
  },
  {
   "cell_type": "markdown",
   "metadata": {},
   "source": [
    "<h4>Rule number 1 (G1-G3)</h4>"
   ]
  },
  {
   "cell_type": "code",
   "execution_count": 42,
   "metadata": {
    "collapsed": false
   },
   "outputs": [
    {
     "name": "stdout",
     "output_type": "stream",
     "text": [
      "Number of G1 users (with rule 1 applied): 374\n",
      "Number of G1 users that have NOT finished the questionnaire (with rule 1 applied): 123\n",
      "Number of G1 users that have finished the questionnaire (with rule 1 applied): 251\n",
      "\n",
      "Completion rate of G1 users (with rule 1 applied):  67.11%\n"
     ]
    }
   ],
   "source": [
    "total_started_questionnaires_g1_r1 = g1[g1[\"applied_rule\"] == 1].shape[0]\n",
    "print \"Number of G1 users (with rule 1 applied): \" + str(total_started_questionnaires_g1_r1)\n",
    "\n",
    "uncompleted_questionnaires_g1_r1 = g1[(g1[\"applied_rule\"] == 1) & (g1[\"cuestionarioFinalizado\"] == False)].shape[0]\n",
    "print \"Number of G1 users that have NOT finished the questionnaire (with rule 1 applied): \" + str(uncompleted_questionnaires_g1_r1)\n",
    "\n",
    "completed_questionnaires_g1_r1 = g1[(g1[\"applied_rule\"] == 1) & (g1[\"cuestionarioFinalizado\"] == True)].shape[0]\n",
    "print \"Number of G1 users that have finished the questionnaire (with rule 1 applied): \" + str(completed_questionnaires_g1_r1)\n",
    "\n",
    "completion_rate_g1_r1 = 100 * float(completed_questionnaires_g1_r1) / total_started_questionnaires_g1_r1\n",
    "print \"\\nCompletion rate of G1 users (with rule 1 applied): \" + '% .2f' % completion_rate_g1_r1 + \"%\""
   ]
  },
  {
   "cell_type": "code",
   "execution_count": 43,
   "metadata": {
    "collapsed": false
   },
   "outputs": [
    {
     "name": "stdout",
     "output_type": "stream",
     "text": [
      "Number of G3 users (with rule 1 applied): 106\n",
      "Number of G3 users that have NOT finished the questionnaire (with rule 1 applied): 29\n",
      "Number of G3 users that have finished the questionnaire (with rule 1 applied): 77\n",
      "\n",
      "Completion rate of G3 users (with rule 1 applied):  72.64%\n"
     ]
    }
   ],
   "source": [
    "total_started_questionnaires_g3_r1 = g3[g3[\"applied_rule\"] == 1].shape[0]\n",
    "print \"Number of G3 users (with rule 1 applied): \" + str(total_started_questionnaires_g3_r1)\n",
    "\n",
    "uncompleted_questionnaires_g3_r1 = g3[(g3[\"applied_rule\"] == 1) & (g3[\"cuestionarioFinalizado_after_reinf\"] == False)].shape[0]\n",
    "print \"Number of G3 users that have NOT finished the questionnaire (with rule 1 applied): \" + str(uncompleted_questionnaires_g3_r1)\n",
    "\n",
    "completed_questionnaires_g3_r1 = g3[(g3[\"applied_rule\"] == 1) & (g3[\"cuestionarioFinalizado_after_reinf\"] == True)].shape[0]\n",
    "print \"Number of G3 users that have finished the questionnaire (with rule 1 applied): \" + str(completed_questionnaires_g3_r1)\n",
    "\n",
    "completion_rate_g3_r1 = 100 * float(completed_questionnaires_g3_r1) / total_started_questionnaires_g3_r1\n",
    "print \"\\nCompletion rate of G3 users (with rule 1 applied): \" + '% .2f' % completion_rate_g3_r1 + \"%\""
   ]
  },
  {
   "cell_type": "code",
   "execution_count": 44,
   "metadata": {
    "collapsed": false
   },
   "outputs": [
    {
     "data": {
      "text/html": [
       "<div>\n",
       "<table border=\"1\" class=\"dataframe\">\n",
       "  <thead>\n",
       "    <tr style=\"text-align: right;\">\n",
       "      <th></th>\n",
       "      <th>G1_Rule1</th>\n",
       "      <th>G3_Rule1</th>\n",
       "    </tr>\n",
       "  </thead>\n",
       "  <tbody>\n",
       "    <tr>\n",
       "      <th>Finished</th>\n",
       "      <td>251</td>\n",
       "      <td>77</td>\n",
       "    </tr>\n",
       "    <tr>\n",
       "      <th>Not finished</th>\n",
       "      <td>123</td>\n",
       "      <td>29</td>\n",
       "    </tr>\n",
       "  </tbody>\n",
       "</table>\n",
       "</div>"
      ],
      "text/plain": [
       "              G1_Rule1  G3_Rule1\n",
       "Finished           251        77\n",
       "Not finished       123        29"
      ]
     },
     "execution_count": 44,
     "metadata": {},
     "output_type": "execute_result"
    }
   ],
   "source": [
    "nFinalized = pd.Series([completed_questionnaires_g1_r1, completed_questionnaires_g3_r1], name='Finished')\n",
    "nNotFinalized = pd.Series([uncompleted_questionnaires_g1_r1, uncompleted_questionnaires_g3_r1], name='Not finished')\n",
    "confMatrixR1 = pd.concat([nFinalized, nNotFinalized], axis=1).T\n",
    "confMatrixR1.columns = ['G1_Rule1', 'G3_Rule1']\n",
    "confMatrixR1"
   ]
  },
  {
   "cell_type": "code",
   "execution_count": 45,
   "metadata": {
    "collapsed": false
   },
   "outputs": [
    {
     "name": "stdout",
     "output_type": "stream",
     "text": [
      "Pearson's Chi-square: 1.16688333615\n",
      "Significance 0.280042557643\n"
     ]
    }
   ],
   "source": [
    "chi2, p_value, dof, ex = stats.chi2_contingency(confMatrixR1, correction=False)\n",
    "print \"Pearson's Chi-square: \" + str(chi2)\n",
    "print \"Significance \" + str(p_value)"
   ]
  },
  {
   "cell_type": "markdown",
   "metadata": {},
   "source": [
    "<h4>Rule number 2 (G1-G3)</h4>"
   ]
  },
  {
   "cell_type": "code",
   "execution_count": 46,
   "metadata": {
    "collapsed": false
   },
   "outputs": [
    {
     "name": "stdout",
     "output_type": "stream",
     "text": [
      "Number of G1 users (with rule 2 applied): 362\n",
      "Number of G1 users that have NOT finished the questionnaire (with rule 2 applied): 105\n",
      "Number of G1 users that have finished the questionnaire (with rule 2 applied): 257\n",
      "\n",
      "Completion rate of G1 users (with rule 2 applied):  70.99%\n"
     ]
    }
   ],
   "source": [
    "total_started_questionnaires_g1_r2 = g1[g1[\"applied_rule\"] == 2].shape[0]\n",
    "print \"Number of G1 users (with rule 2 applied): \" + str(total_started_questionnaires_g1_r2)\n",
    "\n",
    "uncompleted_questionnaires_g1_r2 = g1[(g1[\"applied_rule\"] == 2) & (g1[\"cuestionarioFinalizado\"] == False)].shape[0]\n",
    "print \"Number of G1 users that have NOT finished the questionnaire (with rule 2 applied): \" + str(uncompleted_questionnaires_g1_r2)\n",
    "\n",
    "completed_questionnaires_g1_r2 = g1[(g1[\"applied_rule\"] == 2) & (g1[\"cuestionarioFinalizado\"] == True)].shape[0]\n",
    "print \"Number of G1 users that have finished the questionnaire (with rule 2 applied): \" + str(completed_questionnaires_g1_r2)\n",
    "\n",
    "completion_rate_g1_r2 = 100 * float(completed_questionnaires_g1_r2) / total_started_questionnaires_g1_r2\n",
    "print \"\\nCompletion rate of G1 users (with rule 2 applied): \" + '% .2f' % completion_rate_g1_r2 + \"%\""
   ]
  },
  {
   "cell_type": "code",
   "execution_count": 47,
   "metadata": {
    "collapsed": false
   },
   "outputs": [
    {
     "name": "stdout",
     "output_type": "stream",
     "text": [
      "Number of G3 users (with rule 2 applied): 126\n",
      "Number of G3 users that have NOT finished the questionnaire (with rule 2 applied): 35\n",
      "Number of G3 users that have finished the questionnaire (with rule 2 applied): 91\n",
      "\n",
      "Completion rate of G3 users (with rule 2 applied):  72.22%\n"
     ]
    }
   ],
   "source": [
    "total_started_questionnaires_g3_r2 = g3[g3[\"applied_rule\"] == 2].shape[0]\n",
    "print \"Number of G3 users (with rule 2 applied): \" + str(total_started_questionnaires_g3_r2)\n",
    "\n",
    "uncompleted_questionnaires_g3_r2 = g3[(g3[\"applied_rule\"] == 2) & (g3[\"cuestionarioFinalizado_after_reinf\"] == False)].shape[0]\n",
    "print \"Number of G3 users that have NOT finished the questionnaire (with rule 2 applied): \" + str(uncompleted_questionnaires_g3_r2)\n",
    "\n",
    "completed_questionnaires_g3_r2 = g3[(g3[\"applied_rule\"] == 2) & (g3[\"cuestionarioFinalizado_after_reinf\"] == True)].shape[0]\n",
    "print \"Number of G3 users that have finished the questionnaire (with rule 2 applied): \" + str(completed_questionnaires_g3_r2)\n",
    "\n",
    "completion_rate_g3_r2 = 100 * float(completed_questionnaires_g3_r2) / total_started_questionnaires_g3_r2\n",
    "print \"\\nCompletion rate of G3 users (with rule 2 applied): \" + '% .2f' % completion_rate_g3_r2 + \"%\""
   ]
  },
  {
   "cell_type": "code",
   "execution_count": 48,
   "metadata": {
    "collapsed": false
   },
   "outputs": [
    {
     "data": {
      "text/html": [
       "<div>\n",
       "<table border=\"1\" class=\"dataframe\">\n",
       "  <thead>\n",
       "    <tr style=\"text-align: right;\">\n",
       "      <th></th>\n",
       "      <th>G1_Rule2</th>\n",
       "      <th>G3_Rule2</th>\n",
       "    </tr>\n",
       "  </thead>\n",
       "  <tbody>\n",
       "    <tr>\n",
       "      <th>Finished</th>\n",
       "      <td>257</td>\n",
       "      <td>91</td>\n",
       "    </tr>\n",
       "    <tr>\n",
       "      <th>Not finished</th>\n",
       "      <td>105</td>\n",
       "      <td>35</td>\n",
       "    </tr>\n",
       "  </tbody>\n",
       "</table>\n",
       "</div>"
      ],
      "text/plain": [
       "              G1_Rule2  G3_Rule2\n",
       "Finished           257        91\n",
       "Not finished       105        35"
      ]
     },
     "execution_count": 48,
     "metadata": {},
     "output_type": "execute_result"
    }
   ],
   "source": [
    "nFinalized = pd.Series([completed_questionnaires_g1_r2, completed_questionnaires_g3_r2], name='Finished')\n",
    "nNotFinalized = pd.Series([uncompleted_questionnaires_g1_r2, uncompleted_questionnaires_g3_r2], name='Not finished')\n",
    "confMatrixR2 = pd.concat([nFinalized, nNotFinalized], axis=1).T\n",
    "confMatrixR2.columns = ['G1_Rule2', 'G3_Rule2']\n",
    "confMatrixR2"
   ]
  },
  {
   "cell_type": "code",
   "execution_count": 49,
   "metadata": {
    "collapsed": false
   },
   "outputs": [
    {
     "name": "stdout",
     "output_type": "stream",
     "text": [
      "Pearson's Chi-square: 0.0688667329932\n",
      "Significance 0.792994017496\n"
     ]
    }
   ],
   "source": [
    "chi2, p_value, dof, ex = stats.chi2_contingency(confMatrixR2, correction=False)\n",
    "print \"Pearson's Chi-square: \" + str(chi2)\n",
    "print \"Significance \" + str(p_value)"
   ]
  },
  {
   "cell_type": "markdown",
   "metadata": {},
   "source": [
    "<h4>Rule number 3 (G1-G3)</h4>"
   ]
  },
  {
   "cell_type": "code",
   "execution_count": 50,
   "metadata": {
    "collapsed": false
   },
   "outputs": [
    {
     "name": "stdout",
     "output_type": "stream",
     "text": [
      "Number of G1 users (with rule 3 applied): 51\n",
      "Number of G1 users that have NOT finished the questionnaire (with rule 3 applied): 19\n",
      "Number of G1 users that have finished the questionnaire (with rule 3 applied): 32\n",
      "\n",
      "Completion rate of G1 users (with rule 3 applied):  62.75%\n"
     ]
    }
   ],
   "source": [
    "total_started_questionnaires_g1_r3 = g1[g1[\"applied_rule\"] == 3].shape[0]\n",
    "print \"Number of G1 users (with rule 3 applied): \" + str(total_started_questionnaires_g1_r3)\n",
    "\n",
    "uncompleted_questionnaires_g1_r3 = g1[(g1[\"applied_rule\"] == 3) & (g1[\"cuestionarioFinalizado\"] == False)].shape[0]\n",
    "print \"Number of G1 users that have NOT finished the questionnaire (with rule 3 applied): \" + str(uncompleted_questionnaires_g1_r3)\n",
    "\n",
    "completed_questionnaires_g1_r3 = g1[(g1[\"applied_rule\"] == 3) & (g1[\"cuestionarioFinalizado\"] == True)].shape[0]\n",
    "print \"Number of G1 users that have finished the questionnaire (with rule 3 applied): \" + str(completed_questionnaires_g1_r3)\n",
    "\n",
    "completion_rate_g1_r3 = 100 * float(completed_questionnaires_g1_r3) / total_started_questionnaires_g1_r3\n",
    "print \"\\nCompletion rate of G1 users (with rule 3 applied): \" + '% .2f' % completion_rate_g1_r3 + \"%\""
   ]
  },
  {
   "cell_type": "code",
   "execution_count": 51,
   "metadata": {
    "collapsed": false
   },
   "outputs": [
    {
     "name": "stdout",
     "output_type": "stream",
     "text": [
      "Number of G3 users (with rule 3 applied): 23\n",
      "Number of G3 users that have NOT finished the questionnaire (with rule 3 applied): 10\n",
      "Number of G3 users that have finished the questionnaire (with rule 3 applied): 13\n",
      "\n",
      "Completion rate of G3 users (with rule 3 applied):  56.52%\n"
     ]
    }
   ],
   "source": [
    "total_started_questionnaires_g3_r3 = g3[g3[\"applied_rule\"] == 3].shape[0]\n",
    "print \"Number of G3 users (with rule 3 applied): \" + str(total_started_questionnaires_g3_r3)\n",
    "\n",
    "uncompleted_questionnaires_g3_r3 = g3[(g3[\"applied_rule\"] == 3) & (g3[\"cuestionarioFinalizado_after_reinf\"] == False)].shape[0]\n",
    "print \"Number of G3 users that have NOT finished the questionnaire (with rule 3 applied): \" + str(uncompleted_questionnaires_g3_r3)\n",
    "\n",
    "completed_questionnaires_g3_r3 = g3[(g3[\"applied_rule\"] == 3) & (g3[\"cuestionarioFinalizado_after_reinf\"] == True)].shape[0]\n",
    "print \"Number of G3 users that have finished the questionnaire (with rule 3 applied): \" + str(completed_questionnaires_g3_r3)\n",
    "\n",
    "completion_rate_g3_r3 = 100 * float(completed_questionnaires_g3_r3) / total_started_questionnaires_g3_r3\n",
    "print \"\\nCompletion rate of G3 users (with rule 3 applied): \" + '% .2f' % completion_rate_g3_r3 + \"%\""
   ]
  },
  {
   "cell_type": "code",
   "execution_count": 52,
   "metadata": {
    "collapsed": false
   },
   "outputs": [
    {
     "data": {
      "text/html": [
       "<div>\n",
       "<table border=\"1\" class=\"dataframe\">\n",
       "  <thead>\n",
       "    <tr style=\"text-align: right;\">\n",
       "      <th></th>\n",
       "      <th>G1_Rule3</th>\n",
       "      <th>G3_Rule3</th>\n",
       "    </tr>\n",
       "  </thead>\n",
       "  <tbody>\n",
       "    <tr>\n",
       "      <th>Finished</th>\n",
       "      <td>32</td>\n",
       "      <td>13</td>\n",
       "    </tr>\n",
       "    <tr>\n",
       "      <th>Not finished</th>\n",
       "      <td>19</td>\n",
       "      <td>10</td>\n",
       "    </tr>\n",
       "  </tbody>\n",
       "</table>\n",
       "</div>"
      ],
      "text/plain": [
       "              G1_Rule3  G3_Rule3\n",
       "Finished            32        13\n",
       "Not finished        19        10"
      ]
     },
     "execution_count": 52,
     "metadata": {},
     "output_type": "execute_result"
    }
   ],
   "source": [
    "nFinalized = pd.Series([completed_questionnaires_g1_r3, completed_questionnaires_g3_r3], name='Finished')\n",
    "nNotFinalized = pd.Series([uncompleted_questionnaires_g1_r3, uncompleted_questionnaires_g3_r3], name='Not finished')\n",
    "confMatrixR3 = pd.concat([nFinalized, nNotFinalized], axis=1).T\n",
    "confMatrixR3.columns = ['G1_Rule3', 'G3_Rule3']\n",
    "confMatrixR3"
   ]
  },
  {
   "cell_type": "code",
   "execution_count": 53,
   "metadata": {
    "collapsed": false
   },
   "outputs": [
    {
     "name": "stdout",
     "output_type": "stream",
     "text": [
      "Pearson's Chi-square: 0.257613676822\n",
      "Significance 0.611764350995\n"
     ]
    }
   ],
   "source": [
    "chi2, p_value, dof, ex = stats.chi2_contingency(confMatrixR3, correction=False)\n",
    "print \"Pearson's Chi-square: \" + str(chi2)\n",
    "print \"Significance \" + str(p_value)"
   ]
  },
  {
   "cell_type": "markdown",
   "metadata": {},
   "source": [
    "<h4>Rule number 4 (G1-G3)</h4>"
   ]
  },
  {
   "cell_type": "code",
   "execution_count": 54,
   "metadata": {
    "collapsed": false
   },
   "outputs": [
    {
     "name": "stdout",
     "output_type": "stream",
     "text": [
      "Number of G1 users (with rule 4 applied): 2196\n",
      "Number of G1 users that have NOT finished the questionnaire (with rule 4 applied): 702\n",
      "Number of G1 users that have finished the questionnaire (with rule 4 applied): 1494\n",
      "\n",
      "Completion rate of G1 users (with rule 4 applied):  68.03%\n"
     ]
    }
   ],
   "source": [
    "total_started_questionnaires_g1_r4 = g1[g1[\"applied_rule\"] == 4].shape[0]\n",
    "print \"Number of G1 users (with rule 4 applied): \" + str(total_started_questionnaires_g1_r4)\n",
    "\n",
    "uncompleted_questionnaires_g1_r4 = g1[(g1[\"applied_rule\"] == 4) & (g1[\"cuestionarioFinalizado\"] == False)].shape[0]\n",
    "print \"Number of G1 users that have NOT finished the questionnaire (with rule 4 applied): \" + str(uncompleted_questionnaires_g1_r4)\n",
    "\n",
    "completed_questionnaires_g1_r4 = g1[(g1[\"applied_rule\"] == 4) & (g1[\"cuestionarioFinalizado\"] == True)].shape[0]\n",
    "print \"Number of G1 users that have finished the questionnaire (with rule 4 applied): \" + str(completed_questionnaires_g1_r4)\n",
    "\n",
    "completion_rate_g1_r4 = 100 * float(completed_questionnaires_g1_r4) / total_started_questionnaires_g1_r4\n",
    "print \"\\nCompletion rate of G1 users (with rule 4 applied): \" + '% .2f' % completion_rate_g1_r4 + \"%\""
   ]
  },
  {
   "cell_type": "code",
   "execution_count": 55,
   "metadata": {
    "collapsed": false
   },
   "outputs": [
    {
     "name": "stdout",
     "output_type": "stream",
     "text": [
      "Number of G3 users (with rule 4 applied): 421\n",
      "Number of G3 users that have NOT finished the questionnaire (with rule 4 applied): 100\n",
      "Number of G3 users that have finished the questionnaire (with rule 3 applied): 321\n",
      "\n",
      "Completion rate of G3 users (with rule 4 applied):  76.25%\n"
     ]
    }
   ],
   "source": [
    "total_started_questionnaires_g3_r4 = g3[g3[\"applied_rule\"] == 4].shape[0]\n",
    "print \"Number of G3 users (with rule 4 applied): \" + str(total_started_questionnaires_g3_r4)\n",
    "\n",
    "uncompleted_questionnaires_g3_r4 = g3[(g3[\"applied_rule\"] == 4) & (g3[\"cuestionarioFinalizado_after_reinf\"] == False)].shape[0]\n",
    "print \"Number of G3 users that have NOT finished the questionnaire (with rule 4 applied): \" + str(uncompleted_questionnaires_g3_r4)\n",
    "\n",
    "completed_questionnaires_g3_r4 = g3[(g3[\"applied_rule\"] == 4) & (g3[\"cuestionarioFinalizado_after_reinf\"] == True)].shape[0]\n",
    "print \"Number of G3 users that have finished the questionnaire (with rule 3 applied): \" + str(completed_questionnaires_g3_r4)\n",
    "\n",
    "completion_rate_g3_r4 = 100 * float(completed_questionnaires_g3_r4) / total_started_questionnaires_g3_r4\n",
    "print \"\\nCompletion rate of G3 users (with rule 4 applied): \" + '% .2f' % completion_rate_g3_r4 + \"%\""
   ]
  },
  {
   "cell_type": "code",
   "execution_count": 56,
   "metadata": {
    "collapsed": false
   },
   "outputs": [
    {
     "data": {
      "text/html": [
       "<div>\n",
       "<table border=\"1\" class=\"dataframe\">\n",
       "  <thead>\n",
       "    <tr style=\"text-align: right;\">\n",
       "      <th></th>\n",
       "      <th>G1_Rule4</th>\n",
       "      <th>G3_Rule4</th>\n",
       "    </tr>\n",
       "  </thead>\n",
       "  <tbody>\n",
       "    <tr>\n",
       "      <th>Finished</th>\n",
       "      <td>1494</td>\n",
       "      <td>321</td>\n",
       "    </tr>\n",
       "    <tr>\n",
       "      <th>Not finished</th>\n",
       "      <td>702</td>\n",
       "      <td>100</td>\n",
       "    </tr>\n",
       "  </tbody>\n",
       "</table>\n",
       "</div>"
      ],
      "text/plain": [
       "              G1_Rule4  G3_Rule4\n",
       "Finished          1494       321\n",
       "Not finished       702       100"
      ]
     },
     "execution_count": 56,
     "metadata": {},
     "output_type": "execute_result"
    }
   ],
   "source": [
    "nFinalized = pd.Series([completed_questionnaires_g1_r4, completed_questionnaires_g3_r4], name='Finished')\n",
    "nNotFinalized = pd.Series([uncompleted_questionnaires_g1_r4, uncompleted_questionnaires_g3_r4], name='Not finished')\n",
    "confMatrixR4 = pd.concat([nFinalized, nNotFinalized], axis=1).T\n",
    "confMatrixR4.columns = ['G1_Rule4', 'G3_Rule4']\n",
    "confMatrixR4"
   ]
  },
  {
   "cell_type": "code",
   "execution_count": 57,
   "metadata": {
    "collapsed": false
   },
   "outputs": [
    {
     "name": "stdout",
     "output_type": "stream",
     "text": [
      "Pearson's Chi-square: 11.2150794442\n",
      "Significance 0.000811353363034\n"
     ]
    }
   ],
   "source": [
    "chi2, p_value, dof, ex = stats.chi2_contingency(confMatrixR4, correction=False)\n",
    "print \"Pearson's Chi-square: \" + str(chi2)\n",
    "print \"Significance \" + str(p_value)"
   ]
  },
  {
   "cell_type": "markdown",
   "metadata": {},
   "source": [
    "<h4>Rule number 5 (G1-G3)</h4>"
   ]
  },
  {
   "cell_type": "code",
   "execution_count": 58,
   "metadata": {
    "collapsed": false
   },
   "outputs": [
    {
     "name": "stdout",
     "output_type": "stream",
     "text": [
      "Number of G1 users (with rule 5 applied): 325\n",
      "Number of G1 users that have NOT finished the questionnaire (with rule 5 applied): 92\n",
      "Number of G1 users that have finished the questionnaire (with rule 5 applied): 233\n",
      "\n",
      "Completion rate of G1 users (with rule 5 applied):  71.69%\n"
     ]
    }
   ],
   "source": [
    "total_started_questionnaires_g1_r5 = g1[g1[\"applied_rule\"] == 5].shape[0]\n",
    "print \"Number of G1 users (with rule 5 applied): \" + str(total_started_questionnaires_g1_r5)\n",
    "\n",
    "uncompleted_questionnaires_g1_r5 = g1[(g1[\"applied_rule\"] == 5) & (g1[\"cuestionarioFinalizado\"] == False)].shape[0]\n",
    "print \"Number of G1 users that have NOT finished the questionnaire (with rule 5 applied): \" + str(uncompleted_questionnaires_g1_r5)\n",
    "\n",
    "completed_questionnaires_g1_r5 = g1[(g1[\"applied_rule\"] == 5) & (g1[\"cuestionarioFinalizado\"] == True)].shape[0]\n",
    "print \"Number of G1 users that have finished the questionnaire (with rule 5 applied): \" + str(completed_questionnaires_g1_r5)\n",
    "\n",
    "completion_rate_g1_r5 = 100 * float(completed_questionnaires_g1_r5) / total_started_questionnaires_g1_r5\n",
    "print \"\\nCompletion rate of G1 users (with rule 5 applied): \" + '% .2f' % completion_rate_g1_r5 + \"%\""
   ]
  },
  {
   "cell_type": "code",
   "execution_count": 59,
   "metadata": {
    "collapsed": false
   },
   "outputs": [
    {
     "name": "stdout",
     "output_type": "stream",
     "text": [
      "Number of G3 users (with rule 5 applied): 49\n",
      "Number of G3 users that have NOT finished the questionnaire (with rule 5 applied): 13\n",
      "Number of G3 users that have finished the questionnaire (with rule 5 applied): 36\n",
      "\n",
      "Completion rate of G3 users (with rule 5 applied):  73.47%\n"
     ]
    }
   ],
   "source": [
    "total_started_questionnaires_g3_r5 = g3[g3[\"applied_rule\"] == 5].shape[0]\n",
    "print \"Number of G3 users (with rule 5 applied): \" + str(total_started_questionnaires_g3_r5)\n",
    "\n",
    "uncompleted_questionnaires_g3_r5 = g3[(g3[\"applied_rule\"] == 5) & (g3[\"cuestionarioFinalizado_after_reinf\"] == False)].shape[0]\n",
    "print \"Number of G3 users that have NOT finished the questionnaire (with rule 5 applied): \" + str(uncompleted_questionnaires_g3_r5)\n",
    "\n",
    "completed_questionnaires_g3_r5 = g3[(g3[\"applied_rule\"] == 5) & (g3[\"cuestionarioFinalizado_after_reinf\"] == True)].shape[0]\n",
    "print \"Number of G3 users that have finished the questionnaire (with rule 5 applied): \" + str(completed_questionnaires_g3_r5)\n",
    "\n",
    "completion_rate_g3_r5 = 100 * float(completed_questionnaires_g3_r5) / total_started_questionnaires_g3_r5\n",
    "print \"\\nCompletion rate of G3 users (with rule 5 applied): \" + '% .2f' % completion_rate_g3_r5 + \"%\""
   ]
  },
  {
   "cell_type": "code",
   "execution_count": 60,
   "metadata": {
    "collapsed": false
   },
   "outputs": [
    {
     "data": {
      "text/html": [
       "<div>\n",
       "<table border=\"1\" class=\"dataframe\">\n",
       "  <thead>\n",
       "    <tr style=\"text-align: right;\">\n",
       "      <th></th>\n",
       "      <th>G1_Rule5</th>\n",
       "      <th>G3_Rule5</th>\n",
       "    </tr>\n",
       "  </thead>\n",
       "  <tbody>\n",
       "    <tr>\n",
       "      <th>Finished</th>\n",
       "      <td>233</td>\n",
       "      <td>36</td>\n",
       "    </tr>\n",
       "    <tr>\n",
       "      <th>Not finished</th>\n",
       "      <td>92</td>\n",
       "      <td>13</td>\n",
       "    </tr>\n",
       "  </tbody>\n",
       "</table>\n",
       "</div>"
      ],
      "text/plain": [
       "              G1_Rule5  G3_Rule5\n",
       "Finished           233        36\n",
       "Not finished        92        13"
      ]
     },
     "execution_count": 60,
     "metadata": {},
     "output_type": "execute_result"
    }
   ],
   "source": [
    "nFinalized = pd.Series([completed_questionnaires_g1_r5, completed_questionnaires_g3_r5], name='Finished')\n",
    "nNotFinalized = pd.Series([uncompleted_questionnaires_g1_r5, uncompleted_questionnaires_g3_r5], name='Not finished')\n",
    "confMatrixR5 = pd.concat([nFinalized, nNotFinalized], axis=1).T\n",
    "confMatrixR5.columns = ['G1_Rule5', 'G3_Rule5']\n",
    "confMatrixR5"
   ]
  },
  {
   "cell_type": "code",
   "execution_count": 61,
   "metadata": {
    "collapsed": false
   },
   "outputs": [
    {
     "name": "stdout",
     "output_type": "stream",
     "text": [
      "Pearson's Chi-square: 0.0665922138454\n",
      "Significance 0.796364713353\n"
     ]
    }
   ],
   "source": [
    "chi2, p_value, dof, ex = stats.chi2_contingency(confMatrixR5, correction=False)\n",
    "print \"Pearson's Chi-square: \" + str(chi2)\n",
    "print \"Significance \" + str(p_value)"
   ]
  },
  {
   "cell_type": "markdown",
   "metadata": {},
   "source": [
    "<h4>Rule number 6 (G1-G3)</h4><br>\n",
    "There are no users with rule 6 applied in G1 and G2"
   ]
  },
  {
   "cell_type": "markdown",
   "metadata": {},
   "source": [
    "<h4>Rule number 7 (G1-G3)</h4>"
   ]
  },
  {
   "cell_type": "code",
   "execution_count": 62,
   "metadata": {
    "collapsed": false
   },
   "outputs": [
    {
     "name": "stdout",
     "output_type": "stream",
     "text": [
      "Number of G1 users (with rule 7 applied): 73\n",
      "Number of G1 users that have NOT finished the questionnaire (with rule 7 applied): 24\n",
      "Number of G1 users that have finished the questionnaire (with rule 7 applied): 49\n",
      "\n",
      "Completion rate of G1 users (with rule 7 applied):  67.12%\n"
     ]
    }
   ],
   "source": [
    "total_started_questionnaires_g1_r7 = g1[g1[\"applied_rule\"] == 7].shape[0]\n",
    "print \"Number of G1 users (with rule 7 applied): \" + str(total_started_questionnaires_g1_r7)\n",
    "\n",
    "uncompleted_questionnaires_g1_r7 = g1[(g1[\"applied_rule\"] == 7) & (g1[\"cuestionarioFinalizado\"] == False)].shape[0]\n",
    "print \"Number of G1 users that have NOT finished the questionnaire (with rule 7 applied): \" + str(uncompleted_questionnaires_g1_r7)\n",
    "\n",
    "completed_questionnaires_g1_r7 = g1[(g1[\"applied_rule\"] == 7) & (g1[\"cuestionarioFinalizado\"] == True)].shape[0]\n",
    "print \"Number of G1 users that have finished the questionnaire (with rule 7 applied): \" + str(completed_questionnaires_g1_r7)\n",
    "\n",
    "completion_rate_g1_r7 = 100 * float(completed_questionnaires_g1_r7) / total_started_questionnaires_g1_r7\n",
    "print \"\\nCompletion rate of G1 users (with rule 7 applied): \" + '% .2f' % completion_rate_g1_r7 + \"%\""
   ]
  },
  {
   "cell_type": "code",
   "execution_count": 63,
   "metadata": {
    "collapsed": false
   },
   "outputs": [
    {
     "name": "stdout",
     "output_type": "stream",
     "text": [
      "Number of G3 users (with rule 7 applied): 27\n",
      "Number of G3 users that have NOT finished the questionnaire (with rule 7 applied): 7\n",
      "Number of G3 users that have finished the questionnaire (with rule 7 applied): 20\n",
      "\n",
      "Completion rate of G3 users (with rule 7 applied):  74.07%\n"
     ]
    }
   ],
   "source": [
    "total_started_questionnaires_g3_r7 = g3[g3[\"applied_rule\"] == 7].shape[0]\n",
    "print \"Number of G3 users (with rule 7 applied): \" + str(total_started_questionnaires_g3_r7)\n",
    "\n",
    "uncompleted_questionnaires_g3_r7 = g3[(g3[\"applied_rule\"] == 7) & (g3[\"cuestionarioFinalizado_after_reinf\"] == False)].shape[0]\n",
    "print \"Number of G3 users that have NOT finished the questionnaire (with rule 7 applied): \" + str(uncompleted_questionnaires_g3_r7)\n",
    "\n",
    "completed_questionnaires_g3_r7 = g3[(g3[\"applied_rule\"] == 7) & (g3[\"cuestionarioFinalizado_after_reinf\"] == True)].shape[0]\n",
    "print \"Number of G3 users that have finished the questionnaire (with rule 7 applied): \" + str(completed_questionnaires_g3_r7)\n",
    "\n",
    "completion_rate_g3_r7 = 100 * float(completed_questionnaires_g3_r7) / total_started_questionnaires_g3_r7\n",
    "print \"\\nCompletion rate of G3 users (with rule 7 applied): \" + '% .2f' % completion_rate_g3_r7 + \"%\""
   ]
  },
  {
   "cell_type": "code",
   "execution_count": 64,
   "metadata": {
    "collapsed": false
   },
   "outputs": [
    {
     "data": {
      "text/html": [
       "<div>\n",
       "<table border=\"1\" class=\"dataframe\">\n",
       "  <thead>\n",
       "    <tr style=\"text-align: right;\">\n",
       "      <th></th>\n",
       "      <th>G1_Rule7</th>\n",
       "      <th>G3_Rule7</th>\n",
       "    </tr>\n",
       "  </thead>\n",
       "  <tbody>\n",
       "    <tr>\n",
       "      <th>Finished</th>\n",
       "      <td>49</td>\n",
       "      <td>20</td>\n",
       "    </tr>\n",
       "    <tr>\n",
       "      <th>Not finished</th>\n",
       "      <td>24</td>\n",
       "      <td>7</td>\n",
       "    </tr>\n",
       "  </tbody>\n",
       "</table>\n",
       "</div>"
      ],
      "text/plain": [
       "              G1_Rule7  G3_Rule7\n",
       "Finished            49        20\n",
       "Not finished        24         7"
      ]
     },
     "execution_count": 64,
     "metadata": {},
     "output_type": "execute_result"
    }
   ],
   "source": [
    "nFinalized = pd.Series([completed_questionnaires_g1_r7, completed_questionnaires_g3_r7], name='Finished')\n",
    "nNotFinalized = pd.Series([uncompleted_questionnaires_g1_r7, uncompleted_questionnaires_g3_r7], name='Not finished')\n",
    "confMatrixR7 = pd.concat([nFinalized, nNotFinalized], axis=1).T\n",
    "confMatrixR7.columns = ['G1_Rule7', 'G3_Rule7']\n",
    "confMatrixR7"
   ]
  },
  {
   "cell_type": "code",
   "execution_count": 65,
   "metadata": {
    "collapsed": false
   },
   "outputs": [
    {
     "name": "stdout",
     "output_type": "stream",
     "text": [
      "Pearson's Chi-square: 0.445188282931\n",
      "Significance 0.504628863756\n"
     ]
    }
   ],
   "source": [
    "chi2, p_value, dof, ex = stats.chi2_contingency(confMatrixR7, correction=False)\n",
    "print \"Pearson's Chi-square: \" + str(chi2)\n",
    "print \"Significance \" + str(p_value)"
   ]
  },
  {
   "cell_type": "markdown",
   "metadata": {},
   "source": [
    "<h4>Rule number 8 (G1-G3)</h4>"
   ]
  },
  {
   "cell_type": "code",
   "execution_count": 66,
   "metadata": {
    "collapsed": false
   },
   "outputs": [
    {
     "name": "stdout",
     "output_type": "stream",
     "text": [
      "Number of G1 users (with rule 8 applied): 25\n",
      "Number of G1 users that have NOT finished the questionnaire (with rule 8 applied): 7\n",
      "Number of G1 users that have finished the questionnaire (with rule 8 applied): 18\n",
      "\n",
      "Completion rate of G1 users (with rule 8 applied):  72.00%\n"
     ]
    }
   ],
   "source": [
    "total_started_questionnaires_g1_r8 = g1[g1[\"applied_rule\"] == 8].shape[0]\n",
    "print \"Number of G1 users (with rule 8 applied): \" + str(total_started_questionnaires_g1_r8)\n",
    "\n",
    "uncompleted_questionnaires_g1_r8 = g1[(g1[\"applied_rule\"] == 8) & (g1[\"cuestionarioFinalizado\"] == False)].shape[0]\n",
    "print \"Number of G1 users that have NOT finished the questionnaire (with rule 8 applied): \" + str(uncompleted_questionnaires_g1_r8)\n",
    "\n",
    "completed_questionnaires_g1_r8 = g1[(g1[\"applied_rule\"] == 8) & (g1[\"cuestionarioFinalizado\"] == True)].shape[0]\n",
    "print \"Number of G1 users that have finished the questionnaire (with rule 8 applied): \" + str(completed_questionnaires_g1_r8)\n",
    "\n",
    "completion_rate_g1_r8 = 100 * float(completed_questionnaires_g1_r8) / total_started_questionnaires_g1_r8\n",
    "print \"\\nCompletion rate of G1 users (with rule 8 applied): \" + '% .2f' % completion_rate_g1_r8 + \"%\""
   ]
  },
  {
   "cell_type": "code",
   "execution_count": 67,
   "metadata": {
    "collapsed": false
   },
   "outputs": [
    {
     "name": "stdout",
     "output_type": "stream",
     "text": [
      "Number of G3 users (with rule 8 applied): 10\n",
      "Number of G3 users that have NOT finished the questionnaire (with rule 8 applied): 2\n",
      "Number of G3 users that have finished the questionnaire (with rule 8 applied): 8\n",
      "\n",
      "Completion rate of G3 users (with rule 8 applied):  80.00%\n"
     ]
    }
   ],
   "source": [
    "total_started_questionnaires_g3_r8 = g3[g3[\"applied_rule\"] == 8].shape[0]\n",
    "print \"Number of G3 users (with rule 8 applied): \" + str(total_started_questionnaires_g3_r8)\n",
    "\n",
    "uncompleted_questionnaires_g3_r8 = g3[(g3[\"applied_rule\"] == 8) & (g3[\"cuestionarioFinalizado_after_reinf\"] == False)].shape[0]\n",
    "print \"Number of G3 users that have NOT finished the questionnaire (with rule 8 applied): \" + str(uncompleted_questionnaires_g3_r8)\n",
    "\n",
    "completed_questionnaires_g3_r8 = g3[(g3[\"applied_rule\"] == 8) & (g3[\"cuestionarioFinalizado_after_reinf\"] == True)].shape[0]\n",
    "print \"Number of G3 users that have finished the questionnaire (with rule 8 applied): \" + str(completed_questionnaires_g3_r8)\n",
    "\n",
    "completion_rate_g3_r8 = 100 * float(completed_questionnaires_g3_r8) / total_started_questionnaires_g3_r8\n",
    "print \"\\nCompletion rate of G3 users (with rule 8 applied): \" + '% .2f' % completion_rate_g3_r8 + \"%\""
   ]
  },
  {
   "cell_type": "code",
   "execution_count": 68,
   "metadata": {
    "collapsed": false
   },
   "outputs": [
    {
     "data": {
      "text/html": [
       "<div>\n",
       "<table border=\"1\" class=\"dataframe\">\n",
       "  <thead>\n",
       "    <tr style=\"text-align: right;\">\n",
       "      <th></th>\n",
       "      <th>G1_Rule8</th>\n",
       "      <th>G3_Rule8</th>\n",
       "    </tr>\n",
       "  </thead>\n",
       "  <tbody>\n",
       "    <tr>\n",
       "      <th>Finished</th>\n",
       "      <td>18</td>\n",
       "      <td>8</td>\n",
       "    </tr>\n",
       "    <tr>\n",
       "      <th>Not finished</th>\n",
       "      <td>7</td>\n",
       "      <td>2</td>\n",
       "    </tr>\n",
       "  </tbody>\n",
       "</table>\n",
       "</div>"
      ],
      "text/plain": [
       "              G1_Rule8  G3_Rule8\n",
       "Finished            18         8\n",
       "Not finished         7         2"
      ]
     },
     "execution_count": 68,
     "metadata": {},
     "output_type": "execute_result"
    }
   ],
   "source": [
    "nFinalized = pd.Series([completed_questionnaires_g1_r8, completed_questionnaires_g3_r8], name='Finished')\n",
    "nNotFinalized = pd.Series([uncompleted_questionnaires_g1_r8, uncompleted_questionnaires_g3_r8], name='Not finished')\n",
    "confMatrixR8 = pd.concat([nFinalized, nNotFinalized], axis=1).T\n",
    "confMatrixR8.columns = ['G1_Rule8', 'G3_Rule8']\n",
    "confMatrixR8"
   ]
  },
  {
   "cell_type": "code",
   "execution_count": 69,
   "metadata": {
    "collapsed": false
   },
   "outputs": [
    {
     "name": "stdout",
     "output_type": "stream",
     "text": [
      "Odds ratio: 0.642857142857\n",
      "Fisher's exact test significance: 0.488478483718\n"
     ]
    }
   ],
   "source": [
    "oddsratio, p_value = stats.fisher_exact(confMatrixR8, alternative=\"less\")\n",
    "print \"Odds ratio: \" + str(oddsratio)\n",
    "print \"Fisher's exact test significance: \" + str(p_value)"
   ]
  },
  {
   "cell_type": "markdown",
   "metadata": {},
   "source": [
    "<h4>Rule number 9 (G1-G3)</h4>"
   ]
  },
  {
   "cell_type": "code",
   "execution_count": 70,
   "metadata": {
    "collapsed": false
   },
   "outputs": [
    {
     "name": "stdout",
     "output_type": "stream",
     "text": [
      "Number of G1 users (with rule 9 applied): 427\n",
      "Number of G1 users that have NOT finished the questionnaire (with rule 9 applied): 160\n",
      "Number of G1 users that have finished the questionnaire (with rule 9 applied): 267\n",
      "\n",
      "Completion rate of G1 users (with rule 9 applied):  62.53%\n"
     ]
    }
   ],
   "source": [
    "total_started_questionnaires_g1_r9 = g1[g1[\"applied_rule\"] == 9].shape[0]\n",
    "print \"Number of G1 users (with rule 9 applied): \" + str(total_started_questionnaires_g1_r9)\n",
    "\n",
    "uncompleted_questionnaires_g1_r9 = g1[(g1[\"applied_rule\"] == 9) & (g1[\"cuestionarioFinalizado\"] == False)].shape[0]\n",
    "print \"Number of G1 users that have NOT finished the questionnaire (with rule 9 applied): \" + str(uncompleted_questionnaires_g1_r9)\n",
    "\n",
    "completed_questionnaires_g1_r9 = g1[(g1[\"applied_rule\"] == 9) & (g1[\"cuestionarioFinalizado\"] == True)].shape[0]\n",
    "print \"Number of G1 users that have finished the questionnaire (with rule 9 applied): \" + str(completed_questionnaires_g1_r9)\n",
    "\n",
    "completion_rate_g1_r9 = 100 * float(completed_questionnaires_g1_r9) / total_started_questionnaires_g1_r9\n",
    "print \"\\nCompletion rate of G1 users (with rule 9 applied): \" + '% .2f' % completion_rate_g1_r9 + \"%\""
   ]
  },
  {
   "cell_type": "code",
   "execution_count": 71,
   "metadata": {
    "collapsed": false
   },
   "outputs": [
    {
     "name": "stdout",
     "output_type": "stream",
     "text": [
      "Number of G3 users (with rule 9 applied): 241\n",
      "Number of G3 users that have NOT finished the questionnaire (with rule 9 applied): 89\n",
      "Number of G3 users that have finished the questionnaire (with rule 9 applied): 152\n",
      "\n",
      "Completion rate of G3 users (with rule 9 applied):  63.07%\n"
     ]
    }
   ],
   "source": [
    "total_started_questionnaires_g3_r9 = g3[g3[\"applied_rule\"] == 9].shape[0]\n",
    "print \"Number of G3 users (with rule 9 applied): \" + str(total_started_questionnaires_g3_r9)\n",
    "\n",
    "uncompleted_questionnaires_g3_r9 = g3[(g3[\"applied_rule\"] == 9) & (g3[\"cuestionarioFinalizado_after_reinf\"] == False)].shape[0]\n",
    "print \"Number of G3 users that have NOT finished the questionnaire (with rule 9 applied): \" + str(uncompleted_questionnaires_g3_r9)\n",
    "\n",
    "completed_questionnaires_g3_r9 = g3[(g3[\"applied_rule\"] == 9) & (g3[\"cuestionarioFinalizado_after_reinf\"] == True)].shape[0]\n",
    "print \"Number of G3 users that have finished the questionnaire (with rule 9 applied): \" + str(completed_questionnaires_g3_r9)\n",
    "\n",
    "completion_rate_g3_r9 = 100 * float(completed_questionnaires_g3_r9) / total_started_questionnaires_g3_r9\n",
    "print \"\\nCompletion rate of G3 users (with rule 9 applied): \" + '% .2f' % completion_rate_g3_r9 + \"%\""
   ]
  },
  {
   "cell_type": "code",
   "execution_count": 72,
   "metadata": {
    "collapsed": false
   },
   "outputs": [
    {
     "data": {
      "text/html": [
       "<div>\n",
       "<table border=\"1\" class=\"dataframe\">\n",
       "  <thead>\n",
       "    <tr style=\"text-align: right;\">\n",
       "      <th></th>\n",
       "      <th>G1_Rule9</th>\n",
       "      <th>G3_Rule9</th>\n",
       "    </tr>\n",
       "  </thead>\n",
       "  <tbody>\n",
       "    <tr>\n",
       "      <th>Finished</th>\n",
       "      <td>267</td>\n",
       "      <td>152</td>\n",
       "    </tr>\n",
       "    <tr>\n",
       "      <th>Not finished</th>\n",
       "      <td>160</td>\n",
       "      <td>89</td>\n",
       "    </tr>\n",
       "  </tbody>\n",
       "</table>\n",
       "</div>"
      ],
      "text/plain": [
       "              G1_Rule9  G3_Rule9\n",
       "Finished           267       152\n",
       "Not finished       160        89"
      ]
     },
     "execution_count": 72,
     "metadata": {},
     "output_type": "execute_result"
    }
   ],
   "source": [
    "nFinalized = pd.Series([completed_questionnaires_g1_r9, completed_questionnaires_g3_r9], name='Finished')\n",
    "nNotFinalized = pd.Series([uncompleted_questionnaires_g1_r9, uncompleted_questionnaires_g3_r9], name='Not finished')\n",
    "confMatrixR9 = pd.concat([nFinalized, nNotFinalized], axis=1).T\n",
    "confMatrixR9.columns = ['G1_Rule9', 'G3_Rule9']\n",
    "confMatrixR9"
   ]
  },
  {
   "cell_type": "code",
   "execution_count": 73,
   "metadata": {
    "collapsed": false
   },
   "outputs": [
    {
     "name": "stdout",
     "output_type": "stream",
     "text": [
      "Pearson's Chi-square: 0.0193031668756\n",
      "Significance 0.88950085155\n"
     ]
    }
   ],
   "source": [
    "chi2, p_value, dof, ex = stats.chi2_contingency(confMatrixR9, correction=False)\n",
    "print \"Pearson's Chi-square: \" + str(chi2)\n",
    "print \"Significance \" + str(p_value)"
   ]
  },
  {
   "cell_type": "code",
   "execution_count": null,
   "metadata": {
    "collapsed": true
   },
   "outputs": [],
   "source": []
  }
 ],
 "metadata": {
  "kernelspec": {
   "display_name": "Python 2",
   "language": "python",
   "name": "python2"
  },
  "language_info": {
   "codemirror_mode": {
    "name": "ipython",
    "version": 2
   },
   "file_extension": ".py",
   "mimetype": "text/x-python",
   "name": "python",
   "nbconvert_exporter": "python",
   "pygments_lexer": "ipython2",
   "version": "2.7.12"
  }
 },
 "nbformat": 4,
 "nbformat_minor": 2
}
